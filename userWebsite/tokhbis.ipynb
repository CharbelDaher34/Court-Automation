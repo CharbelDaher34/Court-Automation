{
 "cells": [
  {
   "cell_type": "code",
   "execution_count": 1,
   "metadata": {},
   "outputs": [],
   "source": [
    "from datetime import time\n",
    "\n",
    "# Example: Create a time variable representing 9:00 AM\n",
    "openTime = time(hour=9, minute=0)\n",
    "\n",
    "# Example: Create a time variable representing 2:30 PM\n",
    "closeTime = time(hour=21, minute=0)\n",
    "reservations=[(time(hour=10,minute=0),time(hour=12,minute=0)),(time(hour=14,minute=0),time(hour=18,minute=0))]"
   ]
  },
  {
   "cell_type": "code",
   "execution_count": 2,
   "metadata": {},
   "outputs": [
    {
     "data": {
      "text/plain": [
       "datetime.time(21, 0)"
      ]
     },
     "execution_count": 2,
     "metadata": {},
     "output_type": "execute_result"
    }
   ],
   "source": [
    "closeTime"
   ]
  },
  {
   "cell_type": "code",
   "execution_count": 3,
   "metadata": {},
   "outputs": [
    {
     "data": {
      "text/plain": [
       "datetime.time(9, 0)"
      ]
     },
     "execution_count": 3,
     "metadata": {},
     "output_type": "execute_result"
    }
   ],
   "source": [
    "openTime"
   ]
  },
  {
   "cell_type": "code",
   "execution_count": 4,
   "metadata": {},
   "outputs": [
    {
     "data": {
      "text/plain": [
       "[(datetime.time(10, 0), datetime.time(12, 0)),\n",
       " (datetime.time(14, 0), datetime.time(18, 0))]"
      ]
     },
     "execution_count": 4,
     "metadata": {},
     "output_type": "execute_result"
    }
   ],
   "source": [
    "reservations"
   ]
  },
  {
   "cell_type": "code",
   "execution_count": 5,
   "metadata": {},
   "outputs": [],
   "source": [
    "# Initialize list to store available time slots\n",
    "available_slots = []\n",
    "reservations.sort(key=lambda x: x[0])  # Assuming index 0 represents start time\n",
    "\n",
    "# Check if there are reservations for the court\n",
    "if reservations:\n",
    "    # Calculate available time slots between reservations and opening/closing times\n",
    "    if reservations[0][0] > openTime:\n",
    "        available_slots.append((openTime, reservations[0][0]))\n",
    "    \n",
    "    for i in range(len(reservations) - 1):\n",
    "        if reservations[i][1] < reservations[i + 1][0]:\n",
    "            available_slots.append((reservations[i][1], reservations[i + 1][0]))\n",
    "    \n",
    "    if reservations[-1][1] < closeTime:\n",
    "        available_slots.append((reservations[-1][1], closeTime))\n",
    "else:\n",
    "    # If there are no reservations, consider the entire time as available\n",
    "    available_slots.append((openTime, closeTime))\n",
    "\n",
    "# Now 'available_slots' contains tuples representing the available time slots\n"
   ]
  },
  {
   "cell_type": "code",
   "execution_count": 6,
   "metadata": {},
   "outputs": [
    {
     "data": {
      "text/plain": [
       "[(datetime.time(9, 0), datetime.time(10, 0)),\n",
       " (datetime.time(12, 0), datetime.time(14, 0)),\n",
       " (datetime.time(18, 0), datetime.time(21, 0))]"
      ]
     },
     "execution_count": 6,
     "metadata": {},
     "output_type": "execute_result"
    }
   ],
   "source": [
    "available_slots"
   ]
  },
  {
   "cell_type": "code",
   "execution_count": 21,
   "metadata": {},
   "outputs": [],
   "source": [
    "import os\n",
    "\n",
    "os.environ[\"DJANGO_SETTINGS_MODULE\"] = \"courtWebsite.settings\"\n",
    "os.environ[\"DJANGO_ALLOW_ASYNC_UNSAFE\"] = \"true\"\n"
   ]
  },
  {
   "cell_type": "code",
   "execution_count": 22,
   "metadata": {},
   "outputs": [],
   "source": [
    "import django\n",
    "django.setup()\n"
   ]
  },
  {
   "cell_type": "code",
   "execution_count": 23,
   "metadata": {},
   "outputs": [],
   "source": [
    "from backend.models import Admin"
   ]
  },
  {
   "cell_type": "code",
   "execution_count": 25,
   "metadata": {},
   "outputs": [],
   "source": [
    "a=Admin.objects.get(adminId=1)"
   ]
  },
  {
   "cell_type": "code",
   "execution_count": 28,
   "metadata": {},
   "outputs": [
    {
     "data": {
      "text/plain": [
       "'charbel'"
      ]
     },
     "execution_count": 28,
     "metadata": {},
     "output_type": "execute_result"
    }
   ],
   "source": [
    "a.username"
   ]
  },
  {
   "cell_type": "code",
   "execution_count": null,
   "metadata": {},
   "outputs": [],
   "source": []
  },
  {
   "cell_type": "code",
   "execution_count": null,
   "metadata": {},
   "outputs": [],
   "source": []
  },
  {
   "cell_type": "code",
   "execution_count": 1,
   "metadata": {},
   "outputs": [],
   "source": [
    "from datetime import date\n"
   ]
  },
  {
   "cell_type": "code",
   "execution_count": 2,
   "metadata": {},
   "outputs": [],
   "source": [
    "context={}\n",
    "selected_date = str(\"2024-04-01\")\n",
    "if selected_date!=\"\":\n",
    "      year, month, day = map(int, selected_date.split('-'))\n",
    "      # Construct a date object\n",
    "      date = date(year, month, day)       \n",
    "# date = datetime.strptime(str(selected_date), '%Y-%m-%d').date()\n"
   ]
  },
  {
   "cell_type": "code",
   "execution_count": 3,
   "metadata": {},
   "outputs": [
    {
     "data": {
      "text/plain": [
       "datetime.date(2024, 4, 1)"
      ]
     },
     "execution_count": 3,
     "metadata": {},
     "output_type": "execute_result"
    }
   ],
   "source": [
    "date"
   ]
  },
  {
   "cell_type": "code",
   "execution_count": null,
   "metadata": {},
   "outputs": [],
   "source": []
  }
 ],
 "metadata": {
  "kernelspec": {
   "display_name": "Python 3",
   "language": "python",
   "name": "python3"
  },
  "language_info": {
   "codemirror_mode": {
    "name": "ipython",
    "version": 3
   },
   "file_extension": ".py",
   "mimetype": "text/x-python",
   "name": "python",
   "nbconvert_exporter": "python",
   "pygments_lexer": "ipython3",
   "version": "3.11.8"
  }
 },
 "nbformat": 4,
 "nbformat_minor": 2
}
