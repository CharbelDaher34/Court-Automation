{
 "cells": [
  {
   "cell_type": "code",
   "execution_count": 1,
   "metadata": {},
   "outputs": [],
   "source": [
    "from datetime import time\n",
    "\n",
    "# Example: Create a time variable representing 9:00 AM\n",
    "openTime = time(hour=9, minute=0)\n",
    "\n",
    "# Example: Create a time variable representing 2:30 PM\n",
    "closeTime = time(hour=21, minute=0)\n",
    "reservations=[(time(hour=10,minute=0),time(hour=12,minute=0)),(time(hour=14,minute=0),time(hour=18,minute=0))]"
   ]
  },
  {
   "cell_type": "code",
   "execution_count": 2,
   "metadata": {},
   "outputs": [
    {
     "data": {
      "text/plain": [
       "datetime.time(21, 0)"
      ]
     },
     "execution_count": 2,
     "metadata": {},
     "output_type": "execute_result"
    }
   ],
   "source": [
    "closeTime"
   ]
  },
  {
   "cell_type": "code",
   "execution_count": 3,
   "metadata": {},
   "outputs": [
    {
     "data": {
      "text/plain": [
       "datetime.time(9, 0)"
      ]
     },
     "execution_count": 3,
     "metadata": {},
     "output_type": "execute_result"
    }
   ],
   "source": [
    "openTime"
   ]
  },
  {
   "cell_type": "code",
   "execution_count": 4,
   "metadata": {},
   "outputs": [
    {
     "data": {
      "text/plain": [
       "[(datetime.time(10, 0), datetime.time(12, 0)),\n",
       " (datetime.time(14, 0), datetime.time(18, 0))]"
      ]
     },
     "execution_count": 4,
     "metadata": {},
     "output_type": "execute_result"
    }
   ],
   "source": [
    "reservations"
   ]
  },
  {
   "cell_type": "code",
   "execution_count": 5,
   "metadata": {},
   "outputs": [],
   "source": [
    "# Initialize list to store available time slots\n",
    "available_slots = []\n",
    "reservations.sort(key=lambda x: x[0])  # Assuming index 0 represents start time\n",
    "\n",
    "# Check if there are reservations for the court\n",
    "if reservations:\n",
    "    # Calculate available time slots between reservations and opening/closing times\n",
    "    if reservations[0][0] > openTime:\n",
    "        available_slots.append((openTime, reservations[0][0]))\n",
    "    \n",
    "    for i in range(len(reservations) - 1):\n",
    "        if reservations[i][1] < reservations[i + 1][0]:\n",
    "            available_slots.append((reservations[i][1], reservations[i + 1][0]))\n",
    "    \n",
    "    if reservations[-1][1] < closeTime:\n",
    "        available_slots.append((reservations[-1][1], closeTime))\n",
    "else:\n",
    "    # If there are no reservations, consider the entire time as available\n",
    "    available_slots.append((openTime, closeTime))\n",
    "\n",
    "# Now 'available_slots' contains tuples representing the available time slots\n"
   ]
  },
  {
   "cell_type": "code",
   "execution_count": 6,
   "metadata": {},
   "outputs": [
    {
     "data": {
      "text/plain": [
       "[(datetime.time(9, 0), datetime.time(10, 0)),\n",
       " (datetime.time(12, 0), datetime.time(14, 0)),\n",
       " (datetime.time(18, 0), datetime.time(21, 0))]"
      ]
     },
     "execution_count": 6,
     "metadata": {},
     "output_type": "execute_result"
    }
   ],
   "source": [
    "available_slots"
   ]
  },
  {
   "cell_type": "code",
   "execution_count": 21,
   "metadata": {},
   "outputs": [],
   "source": [
    "import os\n",
    "\n",
    "os.environ[\"DJANGO_SETTINGS_MODULE\"] = \"courtWebsite.settings\"\n",
    "os.environ[\"DJANGO_ALLOW_ASYNC_UNSAFE\"] = \"true\"\n"
   ]
  },
  {
   "cell_type": "code",
   "execution_count": 22,
   "metadata": {},
   "outputs": [],
   "source": [
    "import django\n",
    "django.setup()\n"
   ]
  },
  {
   "cell_type": "code",
   "execution_count": 23,
   "metadata": {},
   "outputs": [],
   "source": [
    "from backend.models import Admin"
   ]
  },
  {
   "cell_type": "code",
   "execution_count": 25,
   "metadata": {},
   "outputs": [],
   "source": [
    "a=Admin.objects.get(adminId=1)"
   ]
  },
  {
   "cell_type": "code",
   "execution_count": 28,
   "metadata": {},
   "outputs": [
    {
     "data": {
      "text/plain": [
       "'charbel'"
      ]
     },
     "execution_count": 28,
     "metadata": {},
     "output_type": "execute_result"
    }
   ],
   "source": [
    "a.username"
   ]
  },
  {
   "cell_type": "code",
   "execution_count": null,
   "metadata": {},
   "outputs": [],
   "source": []
  },
  {
   "cell_type": "code",
   "execution_count": null,
   "metadata": {},
   "outputs": [],
   "source": []
  },
  {
   "cell_type": "code",
   "execution_count": 1,
   "metadata": {},
   "outputs": [],
   "source": [
    "from datetime import date\n"
   ]
  },
  {
   "cell_type": "code",
   "execution_count": 2,
   "metadata": {},
   "outputs": [],
   "source": [
    "context={}\n",
    "selected_date = str(\"2024-04-01\")\n",
    "if selected_date!=\"\":\n",
    "      year, month, day = map(int, selected_date.split('-'))\n",
    "      # Construct a date object\n",
    "      date = date(year, month, day)       \n",
    "# date = datetime.strptime(str(selected_date), '%Y-%m-%d').date()\n"
   ]
  },
  {
   "cell_type": "code",
   "execution_count": 3,
   "metadata": {},
   "outputs": [
    {
     "data": {
      "text/plain": [
       "datetime.date(2024, 4, 1)"
      ]
     },
     "execution_count": 3,
     "metadata": {},
     "output_type": "execute_result"
    }
   ],
   "source": [
    "date"
   ]
  },
  {
   "cell_type": "code",
   "execution_count": null,
   "metadata": {},
   "outputs": [],
   "source": [
    "import re\n",
    "\n",
    "available_slots = '[(datetime.time(9, 0), datetime.time(18, 37, 55, 674628)), (datetime.time(20, 37, 55, 674628), datetime.time(22, 37, 55, 682638)), (datetime.time(0, 37, 55, 682638), datetime.time(22, 0))]'\n",
    "\n",
    "# Define the pattern to match datetime.time() strings\n",
    "pattern = r'datetime\\.time\\(\\d+,\\s*\\d+(,\\s*\\d+){0,2}\\)'\n",
    "\n",
    "# Extract datetime.time() strings\n",
    "time_strings = re.findall(pattern, available_slots)\n",
    "\n",
    "# Store every two datetime.time() strings in a list\n",
    "links = [tuple(time_strings[i:i+2]) for i in range(0, len(time_strings), 2)]\n",
    "\n",
    "print(links)\n"
   ]
  },
  {
   "cell_type": "markdown",
   "metadata": {},
   "source": [
    "Resrevation net3akad men wa2et\n"
   ]
  },
  {
   "cell_type": "code",
   "execution_count": 2,
   "metadata": {},
   "outputs": [
    {
     "name": "stdout",
     "output_type": "stream",
     "text": [
      "False\n"
     ]
    }
   ],
   "source": [
    "available_slots = [['9:0', '18:58'], ['19:0', '22:0']]\n",
    "startTime = '10:37'\n",
    "endTime = '18:59'\n",
    "\n",
    "# Convert startTime and endTime to total minutes from start of the day\n",
    "start_hour, start_minute = map(int, startTime.split(':'))\n",
    "end_hour, end_minute = map(int, endTime.split(':'))\n",
    "start_total_minutes = start_hour * 60 + start_minute\n",
    "end_total_minutes = end_hour * 60 + end_minute\n",
    "\n",
    "is_within_slot = False\n",
    "\n",
    "for slot in available_slots:\n",
    "    start = slot[0]\n",
    "    end = slot[1]\n",
    "    slot_start_hour, slot_start_minute = map(int, start.split(':'))\n",
    "    slot_end_hour, slot_end_minute = map(int, end.split(':'))\n",
    "    slot_start_total_minutes = slot_start_hour * 60 + slot_start_minute\n",
    "    slot_end_total_minutes = slot_end_hour * 60 + slot_end_minute\n",
    "\n",
    "    # Check if the reservation time is within the slot interval\n",
    "    if start_total_minutes >= slot_start_total_minutes and end_total_minutes <= slot_end_total_minutes:\n",
    "        is_within_slot = True\n",
    "        break\n",
    "\n",
    "print(is_within_slot)\n"
   ]
  },
  {
   "cell_type": "code",
   "execution_count": 4,
   "metadata": {},
   "outputs": [
    {
     "name": "stdout",
     "output_type": "stream",
     "text": [
      "False\n"
     ]
    }
   ],
   "source": [
    "available_slots = [['9:0', '18:59'], ['19:0', '22:0']]\n",
    "startTime = '10:37'\n",
    "endTime = '23:37'\n",
    "openTime = '9:00'\n",
    "closeTime = '22:00'\n",
    "\n",
    "# Convert startTime, endTime, openTime, and closeTime to total minutes from start of the day\n",
    "start_hour, start_minute = map(int, startTime.split(':'))\n",
    "end_hour, end_minute = map(int, endTime.split(':'))\n",
    "open_hour, open_minute = map(int, openTime.split(':'))\n",
    "close_hour, close_minute = map(int, closeTime.split(':'))\n",
    "\n",
    "start_total_minutes = start_hour * 60 + start_minute\n",
    "end_total_minutes = end_hour * 60 + end_minute\n",
    "open_total_minutes = open_hour * 60 + open_minute\n",
    "close_total_minutes = close_hour * 60 + close_minute\n",
    "\n",
    "is_within_slot = False\n",
    "\n",
    "if start_total_minutes >= open_total_minutes and end_total_minutes <= close_total_minutes:\n",
    "    for slot in available_slots:\n",
    "        start = slot[0]\n",
    "        end = slot[1]\n",
    "        slot_start_hour, slot_start_minute = map(int, start.split(':'))\n",
    "        slot_end_hour, slot_end_minute = map(int, end.split(':'))\n",
    "        slot_start_total_minutes = slot_start_hour * 60 + slot_start_minute\n",
    "        slot_end_total_minutes = slot_end_hour * 60 + slot_end_minute\n",
    "\n",
    "        # Check if the reservation time is within the slot interval\n",
    "        if start_total_minutes >= slot_start_total_minutes and end_total_minutes <= slot_end_total_minutes:\n",
    "            is_within_slot = True\n",
    "            break\n",
    "\n",
    "print(is_within_slot)\n"
   ]
  },
  {
   "cell_type": "code",
   "execution_count": null,
   "metadata": {},
   "outputs": [],
   "source": []
  }
 ],
 "metadata": {
  "kernelspec": {
   "display_name": "Python 3",
   "language": "python",
   "name": "python3"
  },
  "language_info": {
   "codemirror_mode": {
    "name": "ipython",
    "version": 3
   },
   "file_extension": ".py",
   "mimetype": "text/x-python",
   "name": "python",
   "nbconvert_exporter": "python",
   "pygments_lexer": "ipython3",
   "version": "3.11.8"
  }
 },
 "nbformat": 4,
 "nbformat_minor": 2
}
